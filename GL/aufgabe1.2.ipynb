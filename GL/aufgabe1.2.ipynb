{
 "cells": [
  {
   "cell_type": "code",
   "execution_count": 5,
   "metadata": {
    "collapsed": true
   },
   "outputs": [],
   "source": [
    "import numpy as np"
   ]
  },
  {
   "cell_type": "code",
   "execution_count": 6,
   "outputs": [
    {
     "name": "stdout",
     "output_type": "stream",
     "text": [
      "{b'Hintergrund': (2.15e-06, 1.17e-07), b'ohne Roehre': (0.00132, 1.2e-06), b'Roehre inaktiv': (0.000899, 9e-07), b'Roehre aktiv': (0.000963, 1.3e-06)}\n"
     ]
    },
    {
     "name": "stderr",
     "output_type": "stream",
     "text": [
      "<ipython-input-6-754ea1ea9a4c>:1: VisibleDeprecationWarning: Reading unicode strings without specifying the encoding argument is deprecated. Set the encoding, use None for the system default.\n",
      "  table = np.genfromtxt(\n"
     ]
    }
   ],
   "source": [
    "table = np.genfromtxt(\n",
    "    fname='data/Powermeter/Messwerttabellen - Einfachdurchgang-kommHeNe.csv',\n",
    "    delimiter=',',\n",
    "    skip_header=1,\n",
    "    dtype=None\n",
    ")\n",
    "\n",
    "value_dict = {\n",
    "    state: (P, std_P)\n",
    "    for (state, P, std_P) in table\n",
    "}"
   ],
   "metadata": {
    "collapsed": false,
    "pycharm": {
     "name": "#%%\n"
    }
   }
  },
  {
   "cell_type": "code",
   "execution_count": 8,
   "outputs": [
    {
     "name": "stdout",
     "output_type": "stream",
     "text": [
      "Amplification: 1.07119021134594 +- 0.0018002962508584248 (0.17% rel. error)\n"
     ]
    }
   ],
   "source": [
    "# Calculate amplification\n",
    "amplification = value_dict[b'Roehre aktiv'][0] / value_dict[b'Roehre inaktiv'][0]\n",
    "\n",
    "# Calculate error\n",
    "std_amplification_f = lambda P_aktiv, std_P_aktiv, P_inaktiv, std_P_inktiv: np.sqrt(\n",
    "    (std_P_aktiv / P_inaktiv) ** 2 + (P_aktiv * std_P_inktiv / P_inaktiv ** 2) ** 2\n",
    ")\n",
    "std_amplification = std_amplification_f(*value_dict[b'Roehre aktiv'], *value_dict[b'Roehre inaktiv'])\n",
    "\n",
    "print(f'Amplification: {amplification} +- {std_amplification} '\n",
    "      f'({std_amplification/amplification:.2%} rel. error)')"
   ],
   "metadata": {
    "collapsed": false,
    "pycharm": {
     "name": "#%%\n"
    }
   }
  }
 ],
 "metadata": {
  "kernelspec": {
   "display_name": "Python 3",
   "language": "python",
   "name": "python3"
  },
  "language_info": {
   "codemirror_mode": {
    "name": "ipython",
    "version": 2
   },
   "file_extension": ".py",
   "mimetype": "text/x-python",
   "name": "python",
   "nbconvert_exporter": "python",
   "pygments_lexer": "ipython2",
   "version": "2.7.6"
  }
 },
 "nbformat": 4,
 "nbformat_minor": 0
}