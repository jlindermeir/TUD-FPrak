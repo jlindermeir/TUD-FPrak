{
 "cells": [
  {
   "cell_type": "code",
   "execution_count": 339,
   "metadata": {
    "collapsed": true
   },
   "outputs": [],
   "source": [
    "import numpy as np\n",
    "import matplotlib.pyplot as plt\n",
    "import cv2\n",
    "\n",
    "from scipy.optimize import curve_fit"
   ]
  },
  {
   "cell_type": "code",
   "execution_count": 340,
   "outputs": [],
   "source": [
    "# Read the image file\n",
    "filename = 'data/TD/2021_01_22_Praktikum_Jakob_Richard_0001_ModePolarization_Total_Intensity.png'\n",
    "im_arr = cv2.imread(filename)\n",
    "\n",
    "# Define total height of the image [mm]\n",
    "total_heigth = 3.556352\n",
    "\n",
    "# Define the sample frequency [Hz]\n",
    "f_sample = 48e3\n",
    "\n",
    "# Define the speaker frequency [Hz]\n",
    "f_speaker = 20\n",
    "\n",
    "# Generate depth array [mm]\n",
    "z_arr = np.linspace(0, -total_heigth, im_arr.shape[0])\n",
    "\n",
    "# Define the total duration of the image [s]\n",
    "total_duration = im_arr.shape[1] / f_sample\n",
    "\n",
    "# Generate time array [a.u.]\n",
    "t_arr = np.linspace(0, total_duration, im_arr.shape[1])"
   ],
   "metadata": {
    "collapsed": false,
    "pycharm": {
     "name": "#%%\n"
    }
   }
  },
  {
   "cell_type": "code",
   "execution_count": 341,
   "outputs": [
    {
     "data": {
      "text/plain": "<matplotlib.image.AxesImage at 0x7f11287b7208>"
     },
     "execution_count": 341,
     "metadata": {},
     "output_type": "execute_result"
    },
    {
     "data": {
      "text/plain": "<Figure size 432x288 with 1 Axes>",
      "image/png": "[encoded data removed]"
     },
     "metadata": {
      "needs_background": "light"
     },
     "output_type": "display_data"
    }
   ],
   "source": [
    "# Normalize the image\n",
    "im_arr = np.mean(im_arr, axis=-1)\n",
    "im_arr /= im_arr.max()\n",
    "plt.imshow(im_arr)"
   ],
   "metadata": {
    "collapsed": false,
    "pycharm": {
     "name": "#%%\n"
    }
   }
  },
  {
   "cell_type": "code",
   "execution_count": 342,
   "outputs": [],
   "source": [
    "# Create a thresholded image\n",
    "treshold = 0.85\n",
    "theshold_inds = np.argwhere(im_arr >= treshold)\n",
    "\n",
    "# Create a mask to only select the area around the signal\n",
    "limit_inds = [350, 550]\n",
    "signal_mask = np.logical_and(\n",
    "    limit_inds[0] <= theshold_inds[:, 0],\n",
    "    limit_inds[1] > theshold_inds[:, 0]\n",
    ")\n",
    "signal_inds = theshold_inds[signal_mask]\n",
    "\n",
    "# Convert the indices into time and depth arrays\n",
    "z_data = z_arr[signal_inds[:,0]]\n",
    "t_data = t_arr[signal_inds[:,1]]"
   ],
   "metadata": {
    "collapsed": false,
    "pycharm": {
     "name": "#%%\n"
    }
   }
  },
  {
   "cell_type": "code",
   "execution_count": 343,
   "outputs": [
    {
     "name": "stdout",
     "output_type": "stream",
     "text": [
      "[ 0.08443878 -1.62938689  0.01478897]\n"
     ]
    }
   ],
   "source": [
    "# Fit a sine curve to the data\n",
    "f_sine = lambda t, A, B, t_off: A * np.sin(2 * np.pi * f_speaker * (t - t_off)) + B\n",
    "params_0 = [\n",
    "    (z_data.max() - z_data.min()) / 2,\n",
    "    z_data.mean(),\n",
    "    0\n",
    "]\n",
    "\n",
    "try:\n",
    "    params, _ = curve_fit(f_sine, t_data, z_data, p0=params_0)\n",
    "    print(params)\n",
    "except RuntimeError as e:\n",
    "    print(e)\n",
    "\n",
    "f_sine_fit = lambda t: f_sine(t, *params)"
   ],
   "metadata": {
    "collapsed": false,
    "pycharm": {
     "name": "#%%\n"
    }
   }
  },
  {
   "cell_type": "code",
   "execution_count": 345,
   "outputs": [
    {
     "name": "stdout",
     "output_type": "stream",
     "text": [
      "V_max: 10.610890340425343\n"
     ]
    }
   ],
   "source": [
    "# Calculate the max. velocity of the membrane\n",
    "v_max = 2 * np.pi * params[0] * f_speaker\n",
    "print('V_max: [mm/s]', v_max)"
   ],
   "metadata": {
    "collapsed": false,
    "pycharm": {
     "name": "#%%\n"
    }
   }
  },
  {
   "cell_type": "code",
   "execution_count": null,
   "outputs": [],
   "source": [
    "# Create and format a plot\n",
    "fig, ax = plt.subplots(figsize=[10,8])\n",
    "ax.grid()\n",
    "ax.set_xlabel('Zeit [s]')\n",
    "ax.set_ylabel('Tiefe [mm]')\n",
    "\n",
    "# Plot the data\n",
    "ax.plot(t_data, z_data, '.', c='gray', ms=0.8, label='Extrahierte Messwerte')\n",
    "\n",
    "# Plot the fit\n",
    "ax.plot(t_arr, f_sine_fit(t_arr), 'k-', label='Angepasste Sinusfunktion')\n",
    "\n",
    "ax.legend()\n",
    "fig.savefig(f'figs/aufgabe1-amplitude.png', dpi=300, bbox_inches='tight')"
   ],
   "metadata": {
    "collapsed": false,
    "pycharm": {
     "name": "#%%\n"
    }
   }
  }
 ],
 "metadata": {
  "kernelspec": {
   "display_name": "Python 3",
   "language": "python",
   "name": "python3"
  },
  "language_info": {
   "codemirror_mode": {
    "name": "ipython",
    "version": 2
   },
   "file_extension": ".py",
   "mimetype": "text/x-python",
   "name": "python",
   "nbconvert_exporter": "python",
   "pygments_lexer": "ipython2",
   "version": "2.7.6"
  }
 },
 "nbformat": 4,
 "nbformat_minor": 0
}