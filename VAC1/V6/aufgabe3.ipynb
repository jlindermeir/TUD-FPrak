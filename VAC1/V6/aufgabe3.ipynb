{
 "cells": [
  {
   "cell_type": "code",
   "execution_count": 64,
   "outputs": [],
   "source": [
    "import numpy as np\n",
    "import matplotlib.pyplot as plt\n",
    "\n",
    "from scipy.stats import linregress"
   ],
   "metadata": {
    "collapsed": false,
    "pycharm": {
     "name": "#%%\n"
    }
   }
  },
  {
   "cell_type": "code",
   "execution_count": 65,
   "metadata": {
    "collapsed": true
   },
   "outputs": [],
   "source": [
    "# Load the data\n",
    "filename = 'data/VAC1 - V6 - p_H(p_V).csv'\n",
    "p_V, p_H = np.loadtxt(\n",
    "    fname=filename,\n",
    "    delimiter=',',\n",
    "    unpack=True,\n",
    "    skiprows=1\n",
    ")\n",
    "\n",
    "# Define final pressures for pre- and high vacuum [mbar]\n",
    "p_V0 = 2e-3\n",
    "p_H0 = 1e-7"
   ]
  },
  {
   "cell_type": "code",
   "execution_count": 66,
   "outputs": [],
   "source": [
    "# Compute the compression ratio\n",
    "k = (p_V - p_V0) / (p_H - p_H0)\n"
   ],
   "metadata": {
    "collapsed": false,
    "pycharm": {
     "name": "#%%\n"
    }
   }
  },
  {
   "cell_type": "code",
   "execution_count": 67,
   "outputs": [
    {
     "name": "stdout",
     "output_type": "stream",
     "text": [
      "R-value: 0.9997795155690917\n"
     ]
    }
   ],
   "source": [
    "_, _, r, _, _ = linregress(p_V, k)\n",
    "print(f\"R-value: {r}\")"
   ],
   "metadata": {
    "collapsed": false,
    "pycharm": {
     "name": "#%%\n"
    }
   }
  },
  {
   "cell_type": "code",
   "execution_count": 68,
   "outputs": [
    {
     "data": {
      "text/plain": "<Figure size 720x576 with 1 Axes>",
      "image/png": "[encoded data removed]"
     },
     "metadata": {
      "needs_background": "light"
     },
     "output_type": "display_data"
    }
   ],
   "source": [
    "# Plot the data\n",
    "fig, ax = plt.subplots(figsize=[10,8])\n",
    "ax.grid()\n",
    "ax.set_xscale('log')\n",
    "ax.set_xlabel('$p_V$ [mbar]')\n",
    "ax.set_yscale('log')\n",
    "ax.set_ylabel('$k$ [-]')\n",
    "\n",
    "# Plot measurement data\n",
    "ax.plot(p_V, k, 'k+')\n",
    "\n",
    "fig.savefig('figs/aufgabe3.pdf', bbox_inches='tight')\n"
   ],
   "metadata": {
    "collapsed": false,
    "pycharm": {
     "name": "#%%\n"
    }
   }
  }
 ],
 "metadata": {
  "kernelspec": {
   "display_name": "Python 3",
   "language": "python",
   "name": "python3"
  },
  "language_info": {
   "codemirror_mode": {
    "name": "ipython",
    "version": 2
   },
   "file_extension": ".py",
   "mimetype": "text/x-python",
   "name": "python",
   "nbconvert_exporter": "python",
   "pygments_lexer": "ipython2",
   "version": "2.7.6"
  }
 },
 "nbformat": 4,
 "nbformat_minor": 0
}