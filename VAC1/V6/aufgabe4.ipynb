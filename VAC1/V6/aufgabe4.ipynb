{
 "cells": [
  {
   "cell_type": "code",
   "execution_count": 10,
   "metadata": {
    "collapsed": true
   },
   "outputs": [],
   "source": [
    "\n",
    "import numpy as np\n",
    "import matplotlib.pyplot as plt"
   ]
  },
  {
   "cell_type": "code",
   "execution_count": 12,
   "outputs": [],
   "source": [
    "# Load the data\n",
    "filename = 'data/VAC1 - V6 - delta V(p_H).csv'\n",
    "p_H, n_SP, delta_t = np.loadtxt(\n",
    "    fname=filename,\n",
    "    delimiter=',',\n",
    "    unpack=True,\n",
    "    skiprows=1\n",
    ")\n",
    "\n",
    "# Define the volume of one scale part [l] TODO\n",
    "V_SP = 1e-3 / 8\n",
    "\n",
    "# Convert the scale parts to volumes\n",
    "delta_V = n_SP * V_SP\n",
    "\n",
    "# Define the minimal high vacuum and ambient air pressure [mbar]\n",
    "p_H0 = 1e-7\n",
    "p_L = 1015"
   ],
   "metadata": {
    "collapsed": false,
    "pycharm": {
     "name": "#%%\n"
    }
   }
  },
  {
   "cell_type": "code",
   "execution_count": 13,
   "outputs": [],
   "source": [
    "# Calculate the 'Saugvermögen'\n",
    "S = delta_V / delta_t * (p_L + 530) / (p_H - p_H0)"
   ],
   "metadata": {
    "collapsed": false,
    "pycharm": {
     "name": "#%%\n"
    }
   }
  },
  {
   "cell_type": "code",
   "execution_count": 14,
   "outputs": [
    {
     "data": {
      "text/plain": "<Figure size 720x576 with 1 Axes>",
      "image/png": "[encoded data removed]"
     },
     "metadata": {
      "needs_background": "light"
     },
     "output_type": "display_data"
    }
   ],
   "source": [
    "# Plot the resulting data\n",
    "# Plot the data\n",
    "fig, ax = plt.subplots(figsize=[10,8])\n",
    "ax.grid()\n",
    "ax.set_xscale('log')\n",
    "ax.set_xlabel('$p_H$ [mbar]')\n",
    "ax.set_ylabel('$S$ [l/s]')\n",
    "\n",
    "# Plot measurement data\n",
    "ax.plot(p_H, S, 'k+')\n",
    "\n",
    "fig.savefig('figs/aufgabe4.pdf', bbox_inches='tight')"
   ],
   "metadata": {
    "collapsed": false,
    "pycharm": {
     "name": "#%%\n"
    }
   }
  }
 ],
 "metadata": {
  "kernelspec": {
   "display_name": "Python 3",
   "language": "python",
   "name": "python3"
  },
  "language_info": {
   "codemirror_mode": {
    "name": "ipython",
    "version": 2
   },
   "file_extension": ".py",
   "mimetype": "text/x-python",
   "name": "python",
   "nbconvert_exporter": "python",
   "pygments_lexer": "ipython2",
   "version": "2.7.6"
  }
 },
 "nbformat": 4,
 "nbformat_minor": 0
}